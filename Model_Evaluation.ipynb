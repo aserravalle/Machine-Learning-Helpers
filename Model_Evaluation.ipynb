{
  "nbformat": 4,
  "nbformat_minor": 0,
  "metadata": {
    "colab": {
      "name": "Model_Evaluation.ipynb",
      "provenance": [],
      "collapsed_sections": []
    },
    "kernelspec": {
      "name": "python3",
      "display_name": "Python 3"
    }
  },
  "cells": [
    {
      "cell_type": "markdown",
      "metadata": {
        "id": "JZIzfN7d2mYt",
        "colab_type": "text"
      },
      "source": [
        "# Setup"
      ]
    },
    {
      "cell_type": "code",
      "metadata": {
        "id": "wfEcSre328Ar",
        "colab_type": "code",
        "colab": {}
      },
      "source": [
        "#Manipulating dataframes\n",
        "import pandas as pd\n",
        "import numpy as np\n",
        "\n",
        "# Visualisation\n",
        "import matplotlib.pyplot as plt\n",
        "import seaborn as sns\n",
        "\n",
        "# System Options\n",
        "import os\n",
        "import warnings\n",
        "warnings.filterwarnings(\"ignore\")\n",
        "\n",
        "# Datetime\n",
        "import datetime\n",
        "today = datetime.date.today().strftime('%Y%m%d')\n",
        "\n",
        "# Uploading user data from JSON files\n",
        "import json\n",
        "from pandas.io.json import json_normalize\n",
        "\n",
        "# Saving models\n",
        "import pickle\n",
        "\n",
        "# Pre-processing\n",
        "from sklearn.preprocessing import StandardScaler, OneHotEncoder\n",
        "\n",
        "# Supervised Learning\n",
        "from sklearn import linear_model\n",
        "from sklearn.linear_model import LinearRegression, ElasticNet, Lasso, Ridge, Lars\n",
        "\n",
        "# Preprocessing and Model Selection\n",
        "import sklearn\n",
        "from sklearn.preprocessing import StandardScaler\n",
        "from sklearn.model_selection import cross_val_score, train_test_split\n",
        "from sklearn.metrics import mean_squared_error\n",
        "from sklearn.linear_model import ElasticNetCV, RidgeCV, LassoCV, LarsCV\n",
        "\n",
        "# Working directory\n",
        "path = 'path'\n",
        "today = datetime.datetime.today().strftime('%Y%m%d')"
      ],
      "execution_count": 0,
      "outputs": []
    },
    {
      "cell_type": "code",
      "metadata": {
        "id": "ydix6azKM224",
        "colab_type": "code",
        "outputId": "5aff01e5-70fc-487f-caed-c8319fda39a2",
        "colab": {
          "base_uri": "https://localhost:8080/",
          "height": 320
        }
      },
      "source": [
        "df = pd.read_csv(path + 'Train' + today + '.csv')\n",
        "print(df['y'].value_counts())\n",
        "\n",
        "df.head()"
      ],
      "execution_count": 0,
      "outputs": [
        {
          "output_type": "stream",
          "text": [
            "1    303\n",
            "0    303\n",
            "Name: Late, dtype: int64\n"
          ],
          "name": "stdout"
        },
        {
          "output_type": "execute_result",
          "data": {
            "text/html": [
              "<div>\n",
              "<style scoped>\n",
              "    .dataframe tbody tr th:only-of-type {\n",
              "        vertical-align: middle;\n",
              "    }\n",
              "\n",
              "    .dataframe tbody tr th {\n",
              "        vertical-align: top;\n",
              "    }\n",
              "\n",
              "    .dataframe thead th {\n",
              "        text-align: right;\n",
              "    }\n",
              "</style>\n",
              "<table border=\"1\" class=\"dataframe\">\n",
              "  <thead>\n",
              "    <tr style=\"text-align: right;\">\n",
              "      <th></th>\n",
              "      <th>createdAt</th>\n",
              "      <th>ktp.number</th>\n",
              "      <th>current_debt</th>\n",
              "      <th>TS.score</th>\n",
              "      <th>email.bounce</th>\n",
              "      <th>email.delivered</th>\n",
              "      <th>email.open</th>\n",
              "      <th>email.reject</th>\n",
              "      <th>email.spam</th>\n",
              "      <th>email.PaymentReminder_sent</th>\n",
              "      <th>email.PaymentReminder_seen</th>\n",
              "      <th>bank.bni</th>\n",
              "      <th>bank.mastercard</th>\n",
              "      <th>bank.visa</th>\n",
              "      <th>bank.SumCredit</th>\n",
              "      <th>bank.SumDebit</th>\n",
              "      <th>Age</th>\n",
              "      <th>danaVerifiedAccount_False</th>\n",
              "      <th>danaVerifiedAccount_True</th>\n",
              "      <th>status_active</th>\n",
              "      <th>status_freeze</th>\n",
              "      <th>detail.gender_Female</th>\n",
              "      <th>detail.gender_Male</th>\n",
              "      <th>emergencyContact.type_ayah</th>\n",
              "      <th>emergencyContact.type_ibu</th>\n",
              "      <th>emergencyContact.type_istri</th>\n",
              "      <th>emergencyContact.type_saudara-kandung</th>\n",
              "      <th>emergencyContact.type_saudara-sepupu</th>\n",
              "      <th>emergencyContact.type_suami</th>\n",
              "      <th>emergencyContact.type_teman-kantor</th>\n",
              "      <th>detail.penghasilan_gol1</th>\n",
              "      <th>detail.penghasilan_gol2</th>\n",
              "      <th>detail.penghasilan_gol3</th>\n",
              "      <th>detail.penghasilan_gol4</th>\n",
              "      <th>detail.penghasilan_gol5</th>\n",
              "      <th>detail.penghasilan_gol6</th>\n",
              "      <th>detail.pendidikan_d1</th>\n",
              "      <th>detail.pendidikan_d3</th>\n",
              "      <th>detail.pendidikan_s1</th>\n",
              "      <th>detail.pendidikan_s2</th>\n",
              "      <th>...</th>\n",
              "      <th>detail.industri_industri12</th>\n",
              "      <th>detail.industri_industri13</th>\n",
              "      <th>detail.industri_industri14</th>\n",
              "      <th>detail.industri_industri15</th>\n",
              "      <th>detail.industri_industri16</th>\n",
              "      <th>detail.industri_industri17</th>\n",
              "      <th>detail.industri_industri18</th>\n",
              "      <th>detail.industri_industri19</th>\n",
              "      <th>detail.industri_industri2</th>\n",
              "      <th>detail.industri_industri20</th>\n",
              "      <th>detail.industri_industri21</th>\n",
              "      <th>detail.industri_industri22</th>\n",
              "      <th>detail.industri_industri23</th>\n",
              "      <th>detail.industri_industri24</th>\n",
              "      <th>detail.industri_industri3</th>\n",
              "      <th>detail.industri_industri6</th>\n",
              "      <th>detail.industri_industri7</th>\n",
              "      <th>detail.industri_industri8</th>\n",
              "      <th>detail.industri_industri9</th>\n",
              "      <th>defaultPayment_No Default</th>\n",
              "      <th>defaultPayment_card</th>\n",
              "      <th>defaultPayment_dana</th>\n",
              "      <th>merge.ts_both</th>\n",
              "      <th>merge.ts_left_only</th>\n",
              "      <th>merge.email_both</th>\n",
              "      <th>merge.email_left_only</th>\n",
              "      <th>merge.cards_both</th>\n",
              "      <th>merge.cards_left_only</th>\n",
              "      <th>createdAt_ToD_12am-6am</th>\n",
              "      <th>createdAt_ToD_12pm-6pm</th>\n",
              "      <th>createdAt_ToD_6am-12pm</th>\n",
              "      <th>createdAt_ToD_6pm-12am</th>\n",
              "      <th>createdAt_day_Fri</th>\n",
              "      <th>createdAt_day_Mon</th>\n",
              "      <th>createdAt_day_Sat</th>\n",
              "      <th>createdAt_day_Sun</th>\n",
              "      <th>createdAt_day_Thu</th>\n",
              "      <th>createdAt_day_Tue</th>\n",
              "      <th>createdAt_day_Wed</th>\n",
              "      <th>Late</th>\n",
              "    </tr>\n",
              "  </thead>\n",
              "  <tbody>\n",
              "    <tr>\n",
              "      <th>0</th>\n",
              "      <td>0.989778</td>\n",
              "      <td>0.168240</td>\n",
              "      <td>-0.235606</td>\n",
              "      <td>1.046789</td>\n",
              "      <td>-0.107211</td>\n",
              "      <td>-0.820792</td>\n",
              "      <td>-0.706554</td>\n",
              "      <td>-0.110925</td>\n",
              "      <td>0.0</td>\n",
              "      <td>-0.574654</td>\n",
              "      <td>-0.472342</td>\n",
              "      <td>-0.381516</td>\n",
              "      <td>-0.249661</td>\n",
              "      <td>-0.328089</td>\n",
              "      <td>-0.425487</td>\n",
              "      <td>-0.410497</td>\n",
              "      <td>-1.015497</td>\n",
              "      <td>-0.298142</td>\n",
              "      <td>0.298142</td>\n",
              "      <td>0.534084</td>\n",
              "      <td>-0.534084</td>\n",
              "      <td>-0.596994</td>\n",
              "      <td>0.596994</td>\n",
              "      <td>-0.26653</td>\n",
              "      <td>2.776889</td>\n",
              "      <td>-0.490414</td>\n",
              "      <td>-0.692275</td>\n",
              "      <td>-0.337100</td>\n",
              "      <td>-0.266530</td>\n",
              "      <td>-0.391077</td>\n",
              "      <td>-0.50637</td>\n",
              "      <td>0.875080</td>\n",
              "      <td>-0.441726</td>\n",
              "      <td>-0.177705</td>\n",
              "      <td>-0.185205</td>\n",
              "      <td>-0.050572</td>\n",
              "      <td>-0.101535</td>\n",
              "      <td>-0.373544</td>\n",
              "      <td>0.974807</td>\n",
              "      <td>-0.144338</td>\n",
              "      <td>...</td>\n",
              "      <td>-0.071611</td>\n",
              "      <td>-0.225695</td>\n",
              "      <td>-0.101535</td>\n",
              "      <td>-0.277350</td>\n",
              "      <td>-0.225695</td>\n",
              "      <td>-0.19245</td>\n",
              "      <td>-0.341773</td>\n",
              "      <td>-0.243843</td>\n",
              "      <td>-0.177705</td>\n",
              "      <td>-0.308175</td>\n",
              "      <td>-0.225695</td>\n",
              "      <td>-0.225695</td>\n",
              "      <td>-0.153293</td>\n",
              "      <td>-0.332388</td>\n",
              "      <td>-0.13484</td>\n",
              "      <td>-0.332388</td>\n",
              "      <td>-0.225695</td>\n",
              "      <td>3.412501</td>\n",
              "      <td>-0.087818</td>\n",
              "      <td>-0.219382</td>\n",
              "      <td>-0.360115</td>\n",
              "      <td>0.437595</td>\n",
              "      <td>1.379748</td>\n",
              "      <td>-1.379748</td>\n",
              "      <td>0.144338</td>\n",
              "      <td>-0.144338</td>\n",
              "      <td>-0.676202</td>\n",
              "      <td>0.676202</td>\n",
              "      <td>1.395481</td>\n",
              "      <td>-0.596994</td>\n",
              "      <td>-0.672199</td>\n",
              "      <td>-0.308175</td>\n",
              "      <td>-0.38673</td>\n",
              "      <td>-0.490414</td>\n",
              "      <td>-0.403986</td>\n",
              "      <td>-0.38236</td>\n",
              "      <td>-0.425115</td>\n",
              "      <td>-0.373544</td>\n",
              "      <td>2.557042</td>\n",
              "      <td>0</td>\n",
              "    </tr>\n",
              "    <tr>\n",
              "      <th>1</th>\n",
              "      <td>0.902345</td>\n",
              "      <td>0.047969</td>\n",
              "      <td>-0.384335</td>\n",
              "      <td>-0.576936</td>\n",
              "      <td>-0.107211</td>\n",
              "      <td>-0.765508</td>\n",
              "      <td>-0.950949</td>\n",
              "      <td>-0.110925</td>\n",
              "      <td>0.0</td>\n",
              "      <td>-0.524032</td>\n",
              "      <td>-0.472342</td>\n",
              "      <td>-0.381516</td>\n",
              "      <td>-0.249661</td>\n",
              "      <td>-0.328089</td>\n",
              "      <td>-0.425487</td>\n",
              "      <td>-0.410497</td>\n",
              "      <td>-0.870584</td>\n",
              "      <td>-0.298142</td>\n",
              "      <td>0.298142</td>\n",
              "      <td>0.534084</td>\n",
              "      <td>-0.534084</td>\n",
              "      <td>-0.596994</td>\n",
              "      <td>0.596994</td>\n",
              "      <td>-0.26653</td>\n",
              "      <td>-0.360115</td>\n",
              "      <td>-0.490414</td>\n",
              "      <td>1.444512</td>\n",
              "      <td>-0.337100</td>\n",
              "      <td>-0.266530</td>\n",
              "      <td>-0.391077</td>\n",
              "      <td>-0.50637</td>\n",
              "      <td>-1.142752</td>\n",
              "      <td>2.263846</td>\n",
              "      <td>-0.177705</td>\n",
              "      <td>-0.185205</td>\n",
              "      <td>-0.050572</td>\n",
              "      <td>-0.101535</td>\n",
              "      <td>-0.373544</td>\n",
              "      <td>0.974807</td>\n",
              "      <td>-0.144338</td>\n",
              "      <td>...</td>\n",
              "      <td>-0.071611</td>\n",
              "      <td>-0.225695</td>\n",
              "      <td>-0.101535</td>\n",
              "      <td>-0.277350</td>\n",
              "      <td>-0.225695</td>\n",
              "      <td>-0.19245</td>\n",
              "      <td>-0.341773</td>\n",
              "      <td>-0.243843</td>\n",
              "      <td>-0.177705</td>\n",
              "      <td>-0.308175</td>\n",
              "      <td>-0.225695</td>\n",
              "      <td>-0.225695</td>\n",
              "      <td>-0.153293</td>\n",
              "      <td>-0.332388</td>\n",
              "      <td>-0.13484</td>\n",
              "      <td>-0.332388</td>\n",
              "      <td>-0.225695</td>\n",
              "      <td>3.412501</td>\n",
              "      <td>-0.087818</td>\n",
              "      <td>-0.219382</td>\n",
              "      <td>-0.360115</td>\n",
              "      <td>0.437595</td>\n",
              "      <td>-0.724770</td>\n",
              "      <td>0.724770</td>\n",
              "      <td>0.144338</td>\n",
              "      <td>-0.144338</td>\n",
              "      <td>-0.676202</td>\n",
              "      <td>0.676202</td>\n",
              "      <td>1.395481</td>\n",
              "      <td>-0.596994</td>\n",
              "      <td>-0.672199</td>\n",
              "      <td>-0.308175</td>\n",
              "      <td>-0.38673</td>\n",
              "      <td>-0.490414</td>\n",
              "      <td>-0.403986</td>\n",
              "      <td>-0.38236</td>\n",
              "      <td>2.352304</td>\n",
              "      <td>-0.373544</td>\n",
              "      <td>-0.391077</td>\n",
              "      <td>0</td>\n",
              "    </tr>\n",
              "    <tr>\n",
              "      <th>2</th>\n",
              "      <td>0.121466</td>\n",
              "      <td>-0.941256</td>\n",
              "      <td>-0.523187</td>\n",
              "      <td>-0.576936</td>\n",
              "      <td>-0.107211</td>\n",
              "      <td>-0.765508</td>\n",
              "      <td>-0.741467</td>\n",
              "      <td>-0.110925</td>\n",
              "      <td>0.0</td>\n",
              "      <td>-0.574654</td>\n",
              "      <td>-0.472342</td>\n",
              "      <td>-0.381516</td>\n",
              "      <td>-0.249661</td>\n",
              "      <td>-0.328089</td>\n",
              "      <td>-0.425487</td>\n",
              "      <td>-0.410497</td>\n",
              "      <td>-0.146022</td>\n",
              "      <td>-0.298142</td>\n",
              "      <td>0.298142</td>\n",
              "      <td>0.534084</td>\n",
              "      <td>-0.534084</td>\n",
              "      <td>-0.596994</td>\n",
              "      <td>0.596994</td>\n",
              "      <td>-0.26653</td>\n",
              "      <td>-0.360115</td>\n",
              "      <td>-0.490414</td>\n",
              "      <td>1.444512</td>\n",
              "      <td>-0.337100</td>\n",
              "      <td>-0.266530</td>\n",
              "      <td>-0.391077</td>\n",
              "      <td>-0.50637</td>\n",
              "      <td>0.875080</td>\n",
              "      <td>-0.441726</td>\n",
              "      <td>-0.177705</td>\n",
              "      <td>-0.185205</td>\n",
              "      <td>-0.050572</td>\n",
              "      <td>-0.101535</td>\n",
              "      <td>-0.373544</td>\n",
              "      <td>0.974807</td>\n",
              "      <td>-0.144338</td>\n",
              "      <td>...</td>\n",
              "      <td>-0.071611</td>\n",
              "      <td>-0.225695</td>\n",
              "      <td>-0.101535</td>\n",
              "      <td>3.605551</td>\n",
              "      <td>-0.225695</td>\n",
              "      <td>-0.19245</td>\n",
              "      <td>-0.341773</td>\n",
              "      <td>-0.243843</td>\n",
              "      <td>-0.177705</td>\n",
              "      <td>-0.308175</td>\n",
              "      <td>-0.225695</td>\n",
              "      <td>-0.225695</td>\n",
              "      <td>-0.153293</td>\n",
              "      <td>-0.332388</td>\n",
              "      <td>-0.13484</td>\n",
              "      <td>-0.332388</td>\n",
              "      <td>-0.225695</td>\n",
              "      <td>-0.293040</td>\n",
              "      <td>-0.087818</td>\n",
              "      <td>-0.219382</td>\n",
              "      <td>-0.360115</td>\n",
              "      <td>0.437595</td>\n",
              "      <td>-0.724770</td>\n",
              "      <td>0.724770</td>\n",
              "      <td>0.144338</td>\n",
              "      <td>-0.144338</td>\n",
              "      <td>-0.676202</td>\n",
              "      <td>0.676202</td>\n",
              "      <td>1.395481</td>\n",
              "      <td>-0.596994</td>\n",
              "      <td>-0.672199</td>\n",
              "      <td>-0.308175</td>\n",
              "      <td>-0.38673</td>\n",
              "      <td>-0.490414</td>\n",
              "      <td>-0.403986</td>\n",
              "      <td>-0.38236</td>\n",
              "      <td>2.352304</td>\n",
              "      <td>-0.373544</td>\n",
              "      <td>-0.391077</td>\n",
              "      <td>0</td>\n",
              "    </tr>\n",
              "    <tr>\n",
              "      <th>3</th>\n",
              "      <td>0.798067</td>\n",
              "      <td>0.048946</td>\n",
              "      <td>-0.153810</td>\n",
              "      <td>-0.576936</td>\n",
              "      <td>-0.107211</td>\n",
              "      <td>-0.820792</td>\n",
              "      <td>-0.566900</td>\n",
              "      <td>-0.110925</td>\n",
              "      <td>0.0</td>\n",
              "      <td>-0.574654</td>\n",
              "      <td>-0.472342</td>\n",
              "      <td>-0.381516</td>\n",
              "      <td>-0.249661</td>\n",
              "      <td>-0.328089</td>\n",
              "      <td>-0.425487</td>\n",
              "      <td>-0.410497</td>\n",
              "      <td>-0.725672</td>\n",
              "      <td>-0.298142</td>\n",
              "      <td>0.298142</td>\n",
              "      <td>0.534084</td>\n",
              "      <td>-0.534084</td>\n",
              "      <td>-0.596994</td>\n",
              "      <td>0.596994</td>\n",
              "      <td>-0.26653</td>\n",
              "      <td>-0.360115</td>\n",
              "      <td>-0.490414</td>\n",
              "      <td>-0.692275</td>\n",
              "      <td>2.966479</td>\n",
              "      <td>-0.266530</td>\n",
              "      <td>-0.391077</td>\n",
              "      <td>-0.50637</td>\n",
              "      <td>0.875080</td>\n",
              "      <td>-0.441726</td>\n",
              "      <td>-0.177705</td>\n",
              "      <td>-0.185205</td>\n",
              "      <td>-0.050572</td>\n",
              "      <td>-0.101535</td>\n",
              "      <td>-0.373544</td>\n",
              "      <td>-1.025844</td>\n",
              "      <td>-0.144338</td>\n",
              "      <td>...</td>\n",
              "      <td>-0.071611</td>\n",
              "      <td>-0.225695</td>\n",
              "      <td>-0.101535</td>\n",
              "      <td>-0.277350</td>\n",
              "      <td>-0.225695</td>\n",
              "      <td>-0.19245</td>\n",
              "      <td>-0.341773</td>\n",
              "      <td>-0.243843</td>\n",
              "      <td>-0.177705</td>\n",
              "      <td>3.244906</td>\n",
              "      <td>-0.225695</td>\n",
              "      <td>-0.225695</td>\n",
              "      <td>-0.153293</td>\n",
              "      <td>-0.332388</td>\n",
              "      <td>-0.13484</td>\n",
              "      <td>-0.332388</td>\n",
              "      <td>-0.225695</td>\n",
              "      <td>-0.293040</td>\n",
              "      <td>-0.087818</td>\n",
              "      <td>-0.219382</td>\n",
              "      <td>-0.360115</td>\n",
              "      <td>0.437595</td>\n",
              "      <td>-0.724770</td>\n",
              "      <td>0.724770</td>\n",
              "      <td>0.144338</td>\n",
              "      <td>-0.144338</td>\n",
              "      <td>-0.676202</td>\n",
              "      <td>0.676202</td>\n",
              "      <td>-0.716599</td>\n",
              "      <td>-0.596994</td>\n",
              "      <td>-0.672199</td>\n",
              "      <td>3.244906</td>\n",
              "      <td>-0.38673</td>\n",
              "      <td>-0.490414</td>\n",
              "      <td>-0.403986</td>\n",
              "      <td>-0.38236</td>\n",
              "      <td>-0.425115</td>\n",
              "      <td>2.677063</td>\n",
              "      <td>-0.391077</td>\n",
              "      <td>0</td>\n",
              "    </tr>\n",
              "    <tr>\n",
              "      <th>4</th>\n",
              "      <td>-1.756334</td>\n",
              "      <td>4.019007</td>\n",
              "      <td>-0.126141</td>\n",
              "      <td>-0.576936</td>\n",
              "      <td>-0.107211</td>\n",
              "      <td>-0.765508</td>\n",
              "      <td>0.026630</td>\n",
              "      <td>-0.110925</td>\n",
              "      <td>0.0</td>\n",
              "      <td>-0.574654</td>\n",
              "      <td>-0.472342</td>\n",
              "      <td>-0.381516</td>\n",
              "      <td>-0.249661</td>\n",
              "      <td>-0.328089</td>\n",
              "      <td>-0.425487</td>\n",
              "      <td>-0.410497</td>\n",
              "      <td>1.737842</td>\n",
              "      <td>-0.298142</td>\n",
              "      <td>0.298142</td>\n",
              "      <td>0.534084</td>\n",
              "      <td>-0.534084</td>\n",
              "      <td>1.675060</td>\n",
              "      <td>-1.675060</td>\n",
              "      <td>-0.26653</td>\n",
              "      <td>-0.360115</td>\n",
              "      <td>-0.490414</td>\n",
              "      <td>-0.692275</td>\n",
              "      <td>-0.337100</td>\n",
              "      <td>3.751923</td>\n",
              "      <td>-0.391077</td>\n",
              "      <td>-0.50637</td>\n",
              "      <td>0.875080</td>\n",
              "      <td>-0.441726</td>\n",
              "      <td>-0.177705</td>\n",
              "      <td>-0.185205</td>\n",
              "      <td>-0.050572</td>\n",
              "      <td>-0.101535</td>\n",
              "      <td>-0.373544</td>\n",
              "      <td>0.974807</td>\n",
              "      <td>-0.144338</td>\n",
              "      <td>...</td>\n",
              "      <td>-0.071611</td>\n",
              "      <td>-0.225695</td>\n",
              "      <td>-0.101535</td>\n",
              "      <td>-0.277350</td>\n",
              "      <td>-0.225695</td>\n",
              "      <td>-0.19245</td>\n",
              "      <td>-0.341773</td>\n",
              "      <td>-0.243843</td>\n",
              "      <td>-0.177705</td>\n",
              "      <td>-0.308175</td>\n",
              "      <td>-0.225695</td>\n",
              "      <td>-0.225695</td>\n",
              "      <td>-0.153293</td>\n",
              "      <td>-0.332388</td>\n",
              "      <td>-0.13484</td>\n",
              "      <td>-0.332388</td>\n",
              "      <td>4.430754</td>\n",
              "      <td>-0.293040</td>\n",
              "      <td>-0.087818</td>\n",
              "      <td>-0.219382</td>\n",
              "      <td>-0.360115</td>\n",
              "      <td>0.437595</td>\n",
              "      <td>-0.724770</td>\n",
              "      <td>0.724770</td>\n",
              "      <td>0.144338</td>\n",
              "      <td>-0.144338</td>\n",
              "      <td>-0.676202</td>\n",
              "      <td>0.676202</td>\n",
              "      <td>-0.716599</td>\n",
              "      <td>1.675060</td>\n",
              "      <td>-0.672199</td>\n",
              "      <td>-0.308175</td>\n",
              "      <td>-0.38673</td>\n",
              "      <td>2.039092</td>\n",
              "      <td>-0.403986</td>\n",
              "      <td>-0.38236</td>\n",
              "      <td>-0.425115</td>\n",
              "      <td>-0.373544</td>\n",
              "      <td>-0.391077</td>\n",
              "      <td>0</td>\n",
              "    </tr>\n",
              "  </tbody>\n",
              "</table>\n",
              "<p>5 rows × 82 columns</p>\n",
              "</div>"
            ],
            "text/plain": [
              "   createdAt  ktp.number  ...  createdAt_day_Wed  Late\n",
              "0   0.989778    0.168240  ...           2.557042     0\n",
              "1   0.902345    0.047969  ...          -0.391077     0\n",
              "2   0.121466   -0.941256  ...          -0.391077     0\n",
              "3   0.798067    0.048946  ...          -0.391077     0\n",
              "4  -1.756334    4.019007  ...          -0.391077     0\n",
              "\n",
              "[5 rows x 82 columns]"
            ]
          },
          "metadata": {
            "tags": []
          },
          "execution_count": 3
        }
      ]
    },
    {
      "cell_type": "markdown",
      "metadata": {
        "id": "krYyu1OA3InZ",
        "colab_type": "text"
      },
      "source": [
        "# Grid Search for best parameters"
      ]
    },
    {
      "cell_type": "code",
      "metadata": {
        "id": "uHVZtTl-FGQF",
        "colab_type": "code",
        "outputId": "443ab911-2659-43b6-c224-2ba48ef34a4e",
        "colab": {
          "base_uri": "https://localhost:8080/",
          "height": 34
        }
      },
      "source": [
        "# Fit a cross validation ridge regression on the data to determine parameter alpha\n",
        "\n",
        "reg = RidgeCV(alphas=np.logspace(-10, -5, 10000), store_cv_values=True )\n",
        "reg.fit(X,Y)\n",
        "ridge_alpha = reg.alpha_\n",
        "ridge_alpha"
      ],
      "execution_count": 0,
      "outputs": [
        {
          "output_type": "execute_result",
          "data": {
            "text/plain": [
              "9.649358675922512e-06"
            ]
          },
          "metadata": {
            "tags": []
          },
          "execution_count": 19
        }
      ]
    },
    {
      "cell_type": "code",
      "metadata": {
        "colab_type": "code",
        "outputId": "92d883cc-f79d-4b67-a1d8-2bab276f2524",
        "id": "8Sae83CXWWAb",
        "colab": {
          "base_uri": "https://localhost:8080/",
          "height": 34
        }
      },
      "source": [
        "# Fit a cross validation Lasso regression on the data to determine parameter alpha\n",
        "\n",
        "reg = LassoCV(alphas=np.logspace(-33, -29, 1000) )\n",
        "reg.fit(X,Y)\n",
        "lasso_alpha = reg.alpha_\n",
        "lasso_alpha"
      ],
      "execution_count": 0,
      "outputs": [
        {
          "output_type": "execute_result",
          "data": {
            "text/plain": [
              "7.159041085964917e-31"
            ]
          },
          "metadata": {
            "tags": []
          },
          "execution_count": 20
        }
      ]
    },
    {
      "cell_type": "code",
      "metadata": {
        "colab_type": "code",
        "outputId": "f7e0ab7c-24e0-4b8d-ef94-937814c135f2",
        "id": "XzT1h5PvJ4bS",
        "colab": {
          "base_uri": "https://localhost:8080/",
          "height": 34
        }
      },
      "source": [
        "# Fit a cross validation Elastic net regression on the data to determine parameter alpha\n",
        "\n",
        "Alphas = {}\n",
        "L1s = [0.2, 0.3, 0.4, 0.5, 0.6, 0.7, 0.8]\n",
        "for l1ratio in L1s:\n",
        "  reg = ElasticNetCV(l1_ratio=l1ratio,\n",
        "                     eps=0.00001, n_alphas=100,\n",
        "                     cv=5, random_state=0)\n",
        "  reg.fit(X, Y)\n",
        "  Alphas[str(l1ratio)] = reg.alpha_\n",
        "\n",
        "# Find the ideal likelihood ratio\n",
        "a = list(Alphas.values())\n",
        "b = a.index(min(a))\n",
        "enet_l1ratio = list(Alphas.keys())[list(Alphas.values()).index(min(a))]\n",
        "\n",
        "# ...and alpha\n",
        "enet_alpha = Alphas[enet_l1ratio]\n",
        "enet_l1ratio = float(enet_l1ratio)\n",
        "print(enet_alpha, enet_l1ratio)"
      ],
      "execution_count": 0,
      "outputs": [
        {
          "output_type": "stream",
          "text": [
            "0.0004846050975179952 0.8\n"
          ],
          "name": "stdout"
        }
      ]
    },
    {
      "cell_type": "markdown",
      "metadata": {
        "id": "FVrK9gIZdQ9w",
        "colab_type": "text"
      },
      "source": [
        "# Cross validate models to find the best performing one"
      ]
    },
    {
      "cell_type": "code",
      "metadata": {
        "id": "adcqIH5ZBjyo",
        "colab_type": "code",
        "outputId": "1feaffa4-a25f-43eb-e9e2-a04c3140dd01",
        "colab": {
          "base_uri": "https://localhost:8080/",
          "height": 103
        }
      },
      "source": [
        "# Create a list with all the models we use\n",
        "models = []\n",
        "models.append(  ('Line', LinearRegression()  ))\n",
        "models.append(  ('Rdge', Ridge(alpha=ridge_alpha)  ))\n",
        "models.append(  ('Lsso', Lasso(alpha=lasso_alpha)  ))\n",
        "models.append(  ('Enet', ElasticNet(alpha=enet_alpha, l1_ratio=enet_l1ratio)  ))\n",
        "models.append(  ('Lars', Lars()  ))\n",
        "\n",
        "# Determine performance metrics\n",
        "Variance = {}\n",
        "MSE = {}\n",
        "Rsq = {}\n",
        "Pre = {}\n",
        "\n",
        "# Validation set to evaluate model\n",
        "for name, model in models:\n",
        "  print(name)\n",
        "\n",
        "  # Get CV scores\n",
        "  mse = cross_val_score(model, X, Y, cv=5, scoring = 'neg_mean_squared_error')\n",
        "  variance = cross_val_score(model, X, Y, cv=5, scoring = 'explained_variance')\n",
        "  rsq = cross_val_score(model, X, Y, cv=5, scoring = 'r2')\n",
        "  pre = cross_val_score(model, X, Y.round(), cv=5, scoring = 'average_precision')\n",
        "  \n",
        "  # Assign them to the dictionary\n",
        "  MSE[name] = [mse.mean()]\n",
        "  Variance[name] = [variance.mean()]\n",
        "  Rsq[name] = [rsq.mean()]\n",
        "  Pre[name] = [pre.mean()]\n",
        "\n",
        "# Check options for this CV scores\n",
        "#sorted(sklearn.metrics.SCORERS.keys())"
      ],
      "execution_count": 0,
      "outputs": [
        {
          "output_type": "stream",
          "text": [
            "Line\n",
            "Rdge\n",
            "Lsso\n",
            "Enet\n",
            "Lars\n"
          ],
          "name": "stdout"
        }
      ]
    },
    {
      "cell_type": "code",
      "metadata": {
        "id": "Sg-815n8hw17",
        "colab_type": "code",
        "outputId": "1c95cc2d-0ca1-40a9-e47c-1b77f421dc0b",
        "colab": {
          "base_uri": "https://localhost:8080/",
          "height": 202
        }
      },
      "source": [
        "# Create a dataframe with each model and its score\n",
        "\n",
        "metrics = [MSE, Variance, Rsq, Pre]\n",
        "Metrics = pd.concat([pd.DataFrame(m) for m in metrics])\n",
        "Metrics = np.transpose(Metrics)\n",
        "Metrics.reset_index(inplace=True)\n",
        "Metrics.columns = ['Model', 'MSE','Var', 'Rsq','Precision']\n",
        "\n",
        "Metrics"
      ],
      "execution_count": 0,
      "outputs": [
        {
          "output_type": "execute_result",
          "data": {
            "text/html": [
              "<div>\n",
              "<style scoped>\n",
              "    .dataframe tbody tr th:only-of-type {\n",
              "        vertical-align: middle;\n",
              "    }\n",
              "\n",
              "    .dataframe tbody tr th {\n",
              "        vertical-align: top;\n",
              "    }\n",
              "\n",
              "    .dataframe thead th {\n",
              "        text-align: right;\n",
              "    }\n",
              "</style>\n",
              "<table border=\"1\" class=\"dataframe\">\n",
              "  <thead>\n",
              "    <tr style=\"text-align: right;\">\n",
              "      <th></th>\n",
              "      <th>Model</th>\n",
              "      <th>MSE</th>\n",
              "      <th>Var</th>\n",
              "      <th>Rsq</th>\n",
              "      <th>Precision</th>\n",
              "    </tr>\n",
              "  </thead>\n",
              "  <tbody>\n",
              "    <tr>\n",
              "      <th>0</th>\n",
              "      <td>Line</td>\n",
              "      <td>-1.397003e+23</td>\n",
              "      <td>-3.276678e+25</td>\n",
              "      <td>-3.319355e+25</td>\n",
              "      <td>0.762554</td>\n",
              "    </tr>\n",
              "    <tr>\n",
              "      <th>1</th>\n",
              "      <td>Rdge</td>\n",
              "      <td>-4.855366e-03</td>\n",
              "      <td>7.662439e-01</td>\n",
              "      <td>7.649797e-01</td>\n",
              "      <td>0.998718</td>\n",
              "    </tr>\n",
              "    <tr>\n",
              "      <th>2</th>\n",
              "      <td>Lsso</td>\n",
              "      <td>-6.896116e-03</td>\n",
              "      <td>6.830888e-01</td>\n",
              "      <td>6.816719e-01</td>\n",
              "      <td>1.000000</td>\n",
              "    </tr>\n",
              "    <tr>\n",
              "      <th>3</th>\n",
              "      <td>Enet</td>\n",
              "      <td>-3.546517e-03</td>\n",
              "      <td>8.495602e-01</td>\n",
              "      <td>8.476681e-01</td>\n",
              "      <td>0.997619</td>\n",
              "    </tr>\n",
              "    <tr>\n",
              "      <th>4</th>\n",
              "      <td>Lars</td>\n",
              "      <td>-4.795499e+44</td>\n",
              "      <td>-1.197710e+47</td>\n",
              "      <td>-1.202521e+47</td>\n",
              "      <td>0.142424</td>\n",
              "    </tr>\n",
              "  </tbody>\n",
              "</table>\n",
              "</div>"
            ],
            "text/plain": [
              "  Model           MSE           Var           Rsq  Precision\n",
              "0  Line -1.397003e+23 -3.276678e+25 -3.319355e+25   0.762554\n",
              "1  Rdge -4.855366e-03  7.662439e-01  7.649797e-01   0.998718\n",
              "2  Lsso -6.896116e-03  6.830888e-01  6.816719e-01   1.000000\n",
              "3  Enet -3.546517e-03  8.495602e-01  8.476681e-01   0.997619\n",
              "4  Lars -4.795499e+44 -1.197710e+47 -1.202521e+47   0.142424"
            ]
          },
          "metadata": {
            "tags": []
          },
          "execution_count": 23
        }
      ]
    },
    {
      "cell_type": "markdown",
      "metadata": {
        "id": "_RUFl8klc6Pm",
        "colab_type": "text"
      },
      "source": [
        "# Vote for the best model based on cross validation results\n"
      ]
    },
    {
      "cell_type": "code",
      "metadata": {
        "id": "YRPcIlACWBmU",
        "colab_type": "code",
        "outputId": "f2a1b640-836c-4bd3-e0d3-347e28c8901b",
        "colab": {
          "base_uri": "https://localhost:8080/",
          "height": 34
        }
      },
      "source": [
        "# Chose the model with the most votes\n",
        "\n",
        "best1 = np.where( Metrics.MSE == max(Metrics.MSE))[0][0]\n",
        "best2 = np.where( Metrics.Var == max(Metrics.Var))[0][0]\n",
        "best3 = np.where( Metrics.Rsq == max(Metrics.Rsq))[0][0]\n",
        "best4 = np.where( Metrics.Precision == max(Metrics.Precision))[0][0]\n",
        "\n",
        "votes = [best1, best2, best3, best4]\n",
        "if len(set(votes)) == 4:\n",
        "  best_model = votes[0]\n",
        "else:\n",
        "  best_model = max(set(votes), key=votes.count)\n",
        "best_model = Metrics.Model[best_model]\n",
        "best_model"
      ],
      "execution_count": 0,
      "outputs": [
        {
          "output_type": "execute_result",
          "data": {
            "text/plain": [
              "'Enet'"
            ]
          },
          "metadata": {
            "tags": []
          },
          "execution_count": 24
        }
      ]
    },
    {
      "cell_type": "code",
      "metadata": {
        "id": "bwLURbFDa8wf",
        "colab_type": "code",
        "outputId": "ca4da234-05d5-4f61-ee93-d0f41084d87c",
        "colab": {
          "base_uri": "https://localhost:8080/",
          "height": 86
        }
      },
      "source": [
        "for m in models:\n",
        "  if best_model == m[0]:  # Find the name of the best model\n",
        "    model = m[1]          # Assign the variable model to that object\n",
        "\n",
        "model.fit(X,Y)"
      ],
      "execution_count": 0,
      "outputs": [
        {
          "output_type": "execute_result",
          "data": {
            "text/plain": [
              "ElasticNet(alpha=0.0004846050975179952, copy_X=True, fit_intercept=True,\n",
              "           l1_ratio=0.8, max_iter=1000, normalize=False, positive=False,\n",
              "           precompute=False, random_state=None, selection='cyclic', tol=0.0001,\n",
              "           warm_start=False)"
            ]
          },
          "metadata": {
            "tags": []
          },
          "execution_count": 25
        }
      ]
    },
    {
      "cell_type": "markdown",
      "metadata": {
        "id": "kw6KXpJPaXJP",
        "colab_type": "text"
      },
      "source": [
        "# Save Model"
      ]
    },
    {
      "cell_type": "code",
      "metadata": {
        "colab_type": "code",
        "id": "JJOVspXGbeok",
        "colab": {}
      },
      "source": [
        "filename = 'model_'+best_model+'_'+today+'.sav'\n",
        "pickle.dump(model, open(path+'Prototype/'+filename, 'wb'))"
      ],
      "execution_count": 0,
      "outputs": []
    },
    {
      "cell_type": "markdown",
      "metadata": {
        "id": "MKg_9VZ17Yll",
        "colab_type": "text"
      },
      "source": [
        "# Testing"
      ]
    },
    {
      "cell_type": "code",
      "metadata": {
        "id": "G2VRU1RomA3c",
        "colab_type": "code",
        "outputId": "4354ac2a-cce6-4f7b-a290-82a5b38f2f1c",
        "colab": {
          "base_uri": "https://localhost:8080/",
          "height": 85
        }
      },
      "source": [
        "loaded_model = pickle.load(open(path+filename, 'rb'))\n",
        "loaded_model"
      ],
      "execution_count": 0,
      "outputs": [
        {
          "output_type": "execute_result",
          "data": {
            "text/plain": [
              "ElasticNet(alpha=0.0004846050975179952, copy_X=True, fit_intercept=True,\n",
              "           l1_ratio=0.8, max_iter=1000, normalize=False, positive=False,\n",
              "           precompute=False, random_state=None, selection='cyclic', tol=0.0001,\n",
              "           warm_start=False)"
            ]
          },
          "metadata": {
            "tags": []
          },
          "execution_count": 49
        }
      ]
    },
    {
      "cell_type": "code",
      "metadata": {
        "id": "YvJWg33760dn",
        "colab_type": "code",
        "colab": {}
      },
      "source": [
        "X.loc[214,:].to_json('Xobs.json')"
      ],
      "execution_count": 0,
      "outputs": []
    },
    {
      "cell_type": "code",
      "metadata": {
        "id": "qYHgM_dA8vQc",
        "colab_type": "code",
        "colab": {}
      },
      "source": [
        "import json\n",
        "from pandas.io.json import json_normalize\n",
        "\n",
        "with open('Xobs.json') as json_file:\n",
        "    data = json.load(json_file)\n",
        "\n",
        "Xobs = json_normalize(data)"
      ],
      "execution_count": 0,
      "outputs": []
    },
    {
      "cell_type": "code",
      "metadata": {
        "id": "zKiF1ECj7bUH",
        "colab_type": "code",
        "outputId": "0a7b0f76-7cc0-4867-f256-ae076397d231",
        "colab": {
          "base_uri": "https://localhost:8080/",
          "height": 34
        }
      },
      "source": [
        "loaded_model.predict(Xobs)"
      ],
      "execution_count": 0,
      "outputs": [
        {
          "output_type": "execute_result",
          "data": {
            "text/plain": [
              "array([0.94646986])"
            ]
          },
          "metadata": {
            "tags": []
          },
          "execution_count": 57
        }
      ]
    }
  ]
}
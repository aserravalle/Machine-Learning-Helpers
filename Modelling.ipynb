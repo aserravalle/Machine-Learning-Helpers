{
  "nbformat": 4,
  "nbformat_minor": 0,
  "metadata": {
    "colab": {
      "name": "Model_Evaluation.ipynb",
      "provenance": [],
      "collapsed_sections": []
    },
    "kernelspec": {
      "name": "python3",
      "display_name": "Python 3"
    }
  },
  "cells": [
    {
      "cell_type": "markdown",
      "metadata": {
        "id": "JZIzfN7d2mYt",
        "colab_type": "text"
      },
      "source": [
        "# Setup"
      ]
    },
    {
      "cell_type": "code",
      "metadata": {
        "id": "wfEcSre328Ar",
        "colab_type": "code",
        "colab": {}
      },
      "source": [
        "# import dependencies\n",
        "%matplotlib inline\n",
        "\n",
        "#Manipulating dataframes\n",
        "import pandas as pd\n",
        "import numpy as np\n",
        "\n",
        "# Visualisation\n",
        "import matplotlib.pyplot as plt\n",
        "import seaborn as sns\n",
        "\n",
        "# System Options\n",
        "import math, time, random\n",
        "import os\n",
        "import warnings\n",
        "warnings.filterwarnings(\"ignore\")\n",
        "\n",
        "# Datetime\n",
        "import datetime\n",
        "today = datetime.date.today().strftime('%Y%m%d')\n",
        "\n",
        "# data visualisation\n",
        "import missingno\n",
        "import matplotlib.pyplot as plt\n",
        "import seaborn as sns\n",
        "plt.style.use('seaborn-whitegrid')\n",
        "\n",
        "# Saving models\n",
        "import pickle\n",
        "\n",
        "# Pre-processing\n",
        "from sklearn.preprocessing import StandardScaler, OneHotEncoder\n",
        "from sklearn.preprocessing import LabelEncoder, label_binarize\n",
        "\n",
        "# Supervised Learning\n",
        "from sklearn import linear_model\n",
        "from sklearn.linear_model import LinearRegression, ElasticNet, Lasso, Ridge, Lars\n",
        "\n",
        "# machine learning\n",
        "import catboost\n",
        "import sklearn\n",
        "from sklearn.preprocessing import StandardScaler\n",
        "from sklearn.model_selection import cross_val_score, train_test_split\n",
        "from sklearn.metrics import mean_squared_error\n",
        "from sklearn.linear_model import ElasticNetCV, RidgeCV, LassoCV, LarsCV\n",
        "from sklearn import model_selection, tree, preprocessing, metrics, linear_model\n",
        "from sklearn.linear_model import LinearRegression, LogisticRegression, SGDClassifier\n",
        "from sklearn.neighbors import KNeighborsClassifier\n",
        "from sklearn.naive_bayes import GaussianNB\n",
        "from sklearn.svm import LinearSVC\n",
        "from sklearn.tree import DecisionTreeClassifier\n",
        "from sklearn.ensemble import GradientBoostingClassifier\n",
        "from catboost import CatBoostClassifier, Pool, cv\n",
        "\n",
        "#ignore warnings\n",
        "import warnings\n",
        "warnings.filterwarnings('ignore')"
      ],
      "execution_count": 3,
      "outputs": []
    },
    {
      "cell_type": "code",
      "execution_count": null,
      "metadata": {},
      "outputs": [],
      "source": [
        "# Options\n",
        "pd.set_option('display.max_columns', None)\n",
        "pd.set_option('display.max_rows', 20)\n",
        "import warnings\n",
        "warnings.filterwarnings(\"ignore\")"
      ]
    },
    {
      "cell_type": "code",
      "execution_count": null,
      "metadata": {},
      "outputs": [],
      "source": [
        "# Working directory\n",
        "# authenticate \n",
        "from google.colab import auth\n",
        "auth.authenticate_user()\n",
        "\n",
        "# Connect to google drive\n",
        "from google.colab import drive\n",
        "drive.mount('/content/drive')\n",
        "\n",
        "# Connect to google sheets\n",
        "import gspread\n",
        "from oauth2client.client import GoogleCredentials\n",
        "gc = gspread.authorize(GoogleCredentials.get_application_default())\n",
        "\n",
        "path = \"/content/drive/My Drive/\"\n",
        "\n",
        "# get dataframe\n",
        "df = pd.DataFrame()\n",
        "train = pd.read_csv('data/train.csv')\n",
        "test = pd.read_csv('data/test.csv')"
      ]
    },
    {
      "cell_type": "markdown",
      "metadata": {
        "id": "krYyu1OA3InZ",
        "colab_type": "text"
      },
      "source": [
        "# Using Catboost"
      ]
    },
    {
      "cell_type": "code",
      "execution_count": null,
      "metadata": {},
      "outputs": [],
      "source": [
        "# separate data into binary and continuous parts for different encoding, for binary, one hot encode will do\n",
        "# For df_continuous we can also apply one hot encoding\n",
        "# we use a label encoder (similar to on hot encoder) except for every column we give it a new name\n",
        "\n"
      ]
    },
    {
      "cell_type": "code",
      "execution_count": null,
      "metadata": {},
      "outputs": [],
      "source": [
        "# function that runs the requested algorithm and returns accurate metrics\n",
        "\n",
        "def fit_ml_algo(algo, X_train, y_train, cv):\n",
        "    # one pass\n",
        "    model = algo.fit(X_train, y_train)\n",
        "    acc = round(model.score(X_train, y_train) * 100, 2)\n",
        "    \n",
        "    # cross validation\n",
        "    train_pred = model_selection.cross_val_predict(algo, X_train, y_train, cv=cv, n_jobs = -1)\n",
        "    \n",
        "    # cross validation accuracy metric\n",
        "    acc_cv = round(metrics.accuracy_score(y_train, train_pred) * 100, 2)\n",
        "    \n",
        "    return train_pred, acc, acc_cv"
      ]
    },
    {
      "cell_type": "code",
      "execution_count": null,
      "metadata": {},
      "outputs": [],
      "source": [
        "# split the dataframe into data and labels\n",
        "X_train = selected_df.drop('target_var', axis=1) # data\n",
        "y_train = selected_df.target_var # labels"
      ]
    },
    {
      "cell_type": "code",
      "execution_count": null,
      "metadata": {},
      "outputs": [],
      "source": [
        "# Logistic regression\n",
        "start_time = time.time()\n",
        "train_pred_log, acc_log, acc_cv_log = fit_ml_algo(LogisticRegression(), X_train, y_train, 10)\n",
        "\n",
        "log_time = (time.time() - start_time)\n",
        "\n",
        "print(\"Accuracy: %s\" % acc_log)\n",
        "print(\"Accuracy CV 10 Fold: %s\" % acc_cv_log)\n",
        "print(\"Running Time: %s\" % datetime.timedelta(seconds=log_time))"
      ]
    },
    {
      "cell_type": "code",
      "execution_count": null,
      "metadata": {},
      "outputs": [],
      "source": [
        "# K nearest neighbours \n",
        "start_time = time.time()\n",
        "train_pred_knn, acc_knn, acc_cv_knn = fit_ml_algo(KNeighborsClassifier(), X_train, y_train, 10)\n",
        "\n",
        "knn_time = (time.time() - start_time)\n",
        "\n",
        "print(\"Accuracy: %s\" % acc_knn)\n",
        "print(\"Accuracy CV 10 Fold: %s\" % acc_cv_knn)\n",
        "print(\"Running Time: %s\" % datetime.timedelta(seconds=knn_time))"
      ]
    },
    {
      "cell_type": "code",
      "execution_count": null,
      "metadata": {},
      "outputs": [],
      "source": [
        "# Gaussian Naive Bayes \n",
        "start_time = time.time()\n",
        "train_pred_gaussian, acc_gaussian, acc_cv_gaussian= fit_ml_algo(GaussianNB(), X_train, y_train, 10)\n",
        "\n",
        "gaussian_time = (time.time() - start_time)\n",
        "\n",
        "print(\"Accuracy: %s\" % acc_gaussian)\n",
        "print(\"Accuracy CV 10 Fold: %s\" % acc_cv_gaussian)\n",
        "print(\"Running Time: %s\" % datetime.timedelta(seconds=gaussian_time))"
      ]
    },
    {
      "cell_type": "code",
      "execution_count": null,
      "metadata": {},
      "outputs": [],
      "source": [
        "# SVC \n",
        "start_time = time.time()\n",
        "train_pred_svc, acc_svc, acc_cv_svc = fit_ml_algo(LinearSVC(), X_train, y_train, 10)\n",
        "\n",
        "svc_time = (time.time() - start_time)\n",
        "\n",
        "print(\"Accuracy: %s\" % acc_svc)\n",
        "print(\"Accuracy CV 10 Fold: %s\" % acc_cv_svc)\n",
        "print(\"Running Time: %s\" % datetime.timedelta(seconds=svc_time))"
      ]
    },
    {
      "cell_type": "code",
      "execution_count": null,
      "metadata": {},
      "outputs": [],
      "source": [
        "# Stochastic Gradient Descent\n",
        "start_time = time.time()\n",
        "train_pred_sgd, acc_sgd, acc_cv_sgd = fit_ml_algo(SGDClassifier(), X_train, y_train, 10)\n",
        "\n",
        "sgd_time = (time.time() - start_time)\n",
        "\n",
        "print(\"Accuracy: %s\" % acc_sgd)\n",
        "print(\"Accuracy CV 10 Fold: %s\" % acc_cv_sgd)\n",
        "print(\"Running Time: %s\" % datetime.timedelta(seconds=sgd_time))"
      ]
    },
    {
      "cell_type": "code",
      "execution_count": null,
      "metadata": {},
      "outputs": [],
      "source": [
        "# Stochastic Gradient Descent\n",
        "start_time = time.time()\n",
        "train_pred_sgd, acc_sgd, acc_cv_sgd = fit_ml_algo(SGDClassifier(), X_train, y_train, 10)\n",
        "\n",
        "sgd_time = (time.time() - start_time)\n",
        "\n",
        "print(\"Accuracy: %s\" % acc_sgd)\n",
        "print(\"Accuracy CV 10 Fold: %s\" % acc_cv_sgd)\n",
        "print(\"Running Time: %s\" % datetime.timedelta(seconds=sgd_time))"
      ]
    },
    {
      "cell_type": "code",
      "execution_count": null,
      "metadata": {},
      "outputs": [],
      "source": [
        "# Gradient Boost trees\n",
        "start_time = time.time()\n",
        "train_pred_gbt, acc_gbt, acc_cv_gbt = fit_ml_algo(GradientBoostingClassifier(), X_train, y_train, 10)\n",
        "\n",
        "gbt_time = (time.time() - start_time)\n",
        "\n",
        "print(\"Accuracy: %s\" % acc_gbt)\n",
        "print(\"Accuracy CV 10 Fold: %s\" % acc_cv_gbt)\n",
        "print(\"Running Time: %s\" % datetime.timedelta(seconds=gbt_time))"
      ]
    },
    {
      "cell_type": "code",
      "execution_count": null,
      "metadata": {},
      "outputs": [],
      "source": [
        "# defne the categorical features for the catboost model\n",
        "cat_features = np.where(X_train.dtypes != np.float)[0]\n",
        "\n",
        "# use catboost Catboost Pool() function to pool together the training data and categorical feature labels\n",
        "train_pool = Pool(X_train, y_train, cat_features)"
      ]
    },
    {
      "cell_type": "code",
      "execution_count": null,
      "metadata": {},
      "outputs": [],
      "source": [
        "# catboost mdoel definition\n",
        "catboost_model = CatBoostClassifier(iterations = 1000, custom_loss=['Accuracy'], loss_function='Logloss')"
      ]
    },
    {
      "cell_type": "code",
      "execution_count": null,
      "metadata": {},
      "outputs": [],
      "source": [
        "# fit catboost model\n",
        "catboost_model.fit(train_pool, plot=True)"
      ]
    },
    {
      "cell_type": "code",
      "execution_count": null,
      "metadata": {},
      "outputs": [],
      "source": [
        "#catboost accuracy\n",
        "acc_catboost = round(catboost_model.score(X_train, y_train) * 100, 2)"
      ]
    },
    {
      "cell_type": "code",
      "execution_count": null,
      "metadata": {},
      "outputs": [],
      "source": [
        "# catboost cross validation\n",
        "start_time = time.time()\n",
        "\n",
        "# set params for cross-validation as same as other models\n",
        "cv_params = catboost_model.get_params()\n",
        "\n",
        "# run the cross validation for 10 folds (same as the other models)\n",
        "cv_data = cv(train_pool, cv_params, fold_count=10, plot=True)\n",
        "\n",
        "# find total time taken\n",
        "\n",
        "catboost_time = time.time() - start_time"
      ]
    },
    {
      "cell_type": "code",
      "execution_count": null,
      "metadata": {},
      "outputs": [],
      "source": []
    },
    {
      "cell_type": "code",
      "execution_count": null,
      "metadata": {},
      "outputs": [],
      "source": [
        "# print out catboost results\n",
        "print('---CatBoost Metrics---')\n",
        "print('Accuracy: {}'.format(acc_catboost))\n",
        "print('Accuracy scores on CV 10 fold: {}'.format(acc_cv_boost))\n",
        "print('Running Time: {}'.format(datetime.timedelta(seconds=catboost_time)))"
      ]
    }
  ]
}